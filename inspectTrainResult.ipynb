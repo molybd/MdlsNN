{
 "cells": [
  {
   "cell_type": "code",
   "execution_count": null,
   "metadata": {},
   "outputs": [],
   "source": [
    "import os\n",
    "import json\n",
    "from PlotUtils import plotTrainResultFromDict"
   ]
  },
  {
   "cell_type": "code",
   "execution_count": null,
   "metadata": {},
   "outputs": [],
   "source": [
    "def genResultPlot(filename):\n",
    "    with open(filename, 'r') as f:\n",
    "        train = json.load(f)\n",
    "    name = filename.split('.')[0]\n",
    "    figfilename = name+'.png'\n",
    "    plotTrainResultFromDict(train, figure_title=name, filename=figfilename)"
   ]
  },
  {
   "cell_type": "code",
   "execution_count": null,
   "metadata": {},
   "outputs": [],
   "source": [
    "#filename = 'data\\expdata_PS_80-200-300nm=2-1-1_result_MESLoss#+GPenalty_dmax=1e4_dnum=100_wtG=1e-3.json'\n",
    "#genResultPlot(filename)"
   ]
  },
  {
   "cell_type": "code",
   "execution_count": null,
   "metadata": {},
   "outputs": [],
   "source": [
    "os.chdir('data')\n",
    "for file in os.listdir():\n",
    "    if file.split('.')[-1] == 'json' and 'result' in file:\n",
    "        genResultPlot(file)\n",
    "        "
   ]
  }
 ],
 "metadata": {
  "interpreter": {
   "hash": "9985edfc5d08a372fb787e0da25e2815f409241a4d85d573e1beca18d81948da"
  },
  "kernelspec": {
   "display_name": "Python 3.8.10 ('base')",
   "language": "python",
   "name": "python3"
  },
  "language_info": {
   "codemirror_mode": {
    "name": "ipython",
    "version": 3
   },
   "file_extension": ".py",
   "mimetype": "text/x-python",
   "name": "python",
   "nbconvert_exporter": "python",
   "pygments_lexer": "ipython3",
   "version": "3.8.10"
  },
  "orig_nbformat": 4
 },
 "nbformat": 4,
 "nbformat_minor": 2
}
