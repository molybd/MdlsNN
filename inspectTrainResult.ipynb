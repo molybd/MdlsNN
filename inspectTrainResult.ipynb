{
 "cells": [
  {
   "cell_type": "code",
   "execution_count": null,
   "metadata": {},
   "outputs": [],
   "source": [
    "import os\n",
    "import json\n",
    "from PlotUtils import plotTrainResultFromDict"
   ]
  },
  {
   "cell_type": "code",
   "execution_count": null,
   "metadata": {},
   "outputs": [],
   "source": [
    "os.chdir('data')\n",
    "for file in os.listdir():\n",
    "    if file.split('.')[-1] == 'json' and 'result' in file:\n",
    "        with open(file, 'r') as f:\n",
    "            train = json.load(f)\n",
    "        name = file.split('.')[0]\n",
    "        plotTrainResultFromDict(train, filename=name+'.png')\n",
    "        plotTrainResultFromDict(train, filename=name+'.svg')"
   ]
  }
 ],
 "metadata": {
  "interpreter": {
   "hash": "9985edfc5d08a372fb787e0da25e2815f409241a4d85d573e1beca18d81948da"
  },
  "kernelspec": {
   "display_name": "Python 3.8.10 ('base')",
   "language": "python",
   "name": "python3"
  },
  "language_info": {
   "codemirror_mode": {
    "name": "ipython",
    "version": 3
   },
   "file_extension": ".py",
   "mimetype": "text/x-python",
   "name": "python",
   "nbconvert_exporter": "python",
   "pygments_lexer": "ipython3",
   "version": "3.8.10"
  },
  "orig_nbformat": 4
 },
 "nbformat": 4,
 "nbformat_minor": 2
}
